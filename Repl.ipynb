{
 "cells": [
  {
   "cell_type": "code",
   "execution_count": null,
   "id": "b419f2f8-e9da-4eeb-9cab-421660e6a1be",
   "metadata": {},
   "outputs": [],
   "source": [
    "import wealthsimple"
   ]
  },
  {
   "cell_type": "code",
   "execution_count": null,
   "id": "030b1e73-5c90-40c6-a384-a549bf5ddc66",
   "metadata": {},
   "outputs": [],
   "source": [
    "def my_two_factor_function():\n",
    "    MFACode = \"\"\n",
    "    while not MFACode:\n",
    "        # Obtain user input and ensure it is not empty\n",
    "        MFACode = input(\"Enter 2FA code: \")\n",
    "    return MFACode"
   ]
  },
  {
   "cell_type": "code",
   "execution_count": null,
   "id": "5e17e8ed-cf4f-43c5-9d94-57ca8876fae1",
   "metadata": {},
   "outputs": [],
   "source": [
    "ws = wealthsimple.WSTrade(input(\"Username: \"), input(\"Password: \"), two_factor_callback=my_two_factor_function)"
   ]
  },
  {
   "cell_type": "code",
   "execution_count": null,
   "id": "e90d8907-37f0-4016-b82e-51f22530ae8b",
   "metadata": {},
   "outputs": [],
   "source": [
    "accounts = ws.get_account_ids()"
   ]
  },
  {
   "cell_type": "code",
   "execution_count": null,
   "id": "7af448ce-961b-495c-a8df-4b82f98f3deb",
   "metadata": {},
   "outputs": [],
   "source": [
    "accounts"
   ]
  },
  {
   "cell_type": "code",
   "execution_count": null,
   "id": "807edcec-1626-45a3-a653-1ae5dfa00e50",
   "metadata": {},
   "outputs": [],
   "source": [
    "# activities = ws.get_activities('tfsa-ht1tjfsh')\n",
    "activities = ws.get_activities()"
   ]
  },
  {
   "cell_type": "code",
   "execution_count": null,
   "id": "eecfb61d-5703-4377-ace5-c9cd8da689ae",
   "metadata": {},
   "outputs": [],
   "source": [
    "len(activities)"
   ]
  },
  {
   "cell_type": "code",
   "execution_count": null,
   "id": "25d3fbc8-d8c6-4795-b3c0-c40c5ac68664",
   "metadata": {},
   "outputs": [],
   "source": [
    "activities[0]"
   ]
  },
  {
   "cell_type": "code",
   "execution_count": null,
   "id": "84bef521-2e09-4481-a1b3-9e637d42d2d7",
   "metadata": {},
   "outputs": [],
   "source": [
    "ws.TradeAPI"
   ]
  },
  {
   "cell_type": "code",
   "execution_count": null,
   "id": "2b57892f-6ba0-4097-8a29-fc53f14f0442",
   "metadata": {},
   "outputs": [],
   "source": [
    "x = ws.TradeAPI.makeRequest(\"GET\", \"orders?offset=10&account_id=tfsa-ht1tjfsh\")"
   ]
  },
  {
   "cell_type": "code",
   "execution_count": null,
   "id": "f458420c-f083-4ba1-b072-97850e283cb8",
   "metadata": {},
   "outputs": [],
   "source": [
    "x = x.json()"
   ]
  },
  {
   "cell_type": "code",
   "execution_count": null,
   "id": "211fdf08-5973-4d4f-aba6-0a21e54bf8a1",
   "metadata": {},
   "outputs": [],
   "source": [
    "len(x['results'])"
   ]
  },
  {
   "cell_type": "code",
   "execution_count": null,
   "id": "82312cdd-71fa-4d9e-bc03-685d94f25f81",
   "metadata": {},
   "outputs": [],
   "source": [
    "x.keys()"
   ]
  },
  {
   "cell_type": "code",
   "execution_count": null,
   "id": "32d0fa65-d01b-405d-a178-c1a28c65b9be",
   "metadata": {},
   "outputs": [],
   "source": [
    "x"
   ]
  },
  {
   "cell_type": "code",
   "execution_count": null,
   "id": "7ef0dd3e-e071-40b1-9e23-52d06c635018",
   "metadata": {},
   "outputs": [],
   "source": []
  }
 ],
 "metadata": {
  "kernelspec": {
   "display_name": "Python 3 (ipykernel)",
   "language": "python",
   "name": "python3"
  },
  "language_info": {
   "codemirror_mode": {
    "name": "ipython",
    "version": 3
   },
   "file_extension": ".py",
   "mimetype": "text/x-python",
   "name": "python",
   "nbconvert_exporter": "python",
   "pygments_lexer": "ipython3",
   "version": "3.10.0"
  }
 },
 "nbformat": 4,
 "nbformat_minor": 5
}
